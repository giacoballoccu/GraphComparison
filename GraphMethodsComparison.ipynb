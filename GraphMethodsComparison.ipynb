{
 "nbformat": 4,
 "nbformat_minor": 0,
 "metadata": {
  "colab": {
   "name": "Untitled2.ipynb",
   "provenance": []
  },
  "kernelspec": {
   "name": "python3",
   "language": "python",
   "display_name": "Python 3"
  }
 },
 "cells": [
  {
   "cell_type": "code",
   "metadata": {
    "colab": {
     "base_uri": "https://localhost:8080/"
    },
    "id": "gKhVGONyvHxi",
    "outputId": "519ddb4c-315a-4228-b7da-75ff91a8bc66"
   },
   "source": [
    "import collections\n",
    "!apt-get install openjdk-8-jdk-headless -qq > /dev/null\n",
    "!wget https://downloads.apache.org/spark/spark-3.0.1/spark-3.0.1-bin-hadoop3.2.tgz\n",
    "!tar xf spark-3.0.1-bin-hadoop3.2.tgz"
   ],
   "execution_count": 4,
   "outputs": [
    {
     "name": "stdout",
     "output_type": "stream",
     "text": [
      "/bin/bash: apt-get: command not found\r\n",
      "/bin/bash: wget: command not found\r\n",
      "tar: Error opening archive: Failed to open 'spark-3.0.1-bin-hadoop3.2.tgz'\r\n"
     ]
    }
   ]
  },
  {
   "cell_type": "code",
   "metadata": {
    "colab": {
     "base_uri": "https://localhost:8080/"
    },
    "id": "jpDJQoRhuxvR",
    "outputId": "034f932a-6eea-4bac-fa0d-d3f2fb4c0af3"
   },
   "source": [
    "!pip install -q findspark\n",
    "import os\n",
    "os.environ[\"JAVA_HOME\"] = \"/usr/lib/jvm/java-11-openjdk-amd64\"\n",
    "os.environ[\"SPARK_HOME\"] = \"/content/spark-3.0.1-bin-hadoop3.2\" \n",
    "import findspark\n",
    "findspark.init()\n",
    "import pyspark\n",
    "print(pyspark.__version__)\n",
    "from pyspark.sql import SparkSession\n",
    "spark = SparkSession.builder.master(\"local[*]\").getOrCreate() \n",
    "sc=spark.sparkContext"
   ],
   "execution_count": 6,
   "outputs": [
    {
     "ename": "ModuleNotFoundError",
     "evalue": "No module named 'findspark'",
     "output_type": "error",
     "traceback": [
      "\u001B[0;31m---------------------------------------------------------------------------\u001B[0m",
      "\u001B[0;31mModuleNotFoundError\u001B[0m                       Traceback (most recent call last)",
      "\u001B[0;32m<ipython-input-6-8a63ccdb3715>\u001B[0m in \u001B[0;36m<module>\u001B[0;34m\u001B[0m\n\u001B[1;32m      3\u001B[0m \u001B[0mos\u001B[0m\u001B[0;34m.\u001B[0m\u001B[0menviron\u001B[0m\u001B[0;34m[\u001B[0m\u001B[0;34m\"JAVA_HOME\"\u001B[0m\u001B[0;34m]\u001B[0m \u001B[0;34m=\u001B[0m \u001B[0;34m\"/usr/lib/jvm/java-11-openjdk-amd64\"\u001B[0m\u001B[0;34m\u001B[0m\u001B[0;34m\u001B[0m\u001B[0m\n\u001B[1;32m      4\u001B[0m \u001B[0mos\u001B[0m\u001B[0;34m.\u001B[0m\u001B[0menviron\u001B[0m\u001B[0;34m[\u001B[0m\u001B[0;34m\"SPARK_HOME\"\u001B[0m\u001B[0;34m]\u001B[0m \u001B[0;34m=\u001B[0m \u001B[0;34m\"/content/spark-3.0.1-bin-hadoop3.2\"\u001B[0m\u001B[0;34m\u001B[0m\u001B[0;34m\u001B[0m\u001B[0m\n\u001B[0;32m----> 5\u001B[0;31m \u001B[0;32mimport\u001B[0m \u001B[0mfindspark\u001B[0m\u001B[0;34m\u001B[0m\u001B[0;34m\u001B[0m\u001B[0m\n\u001B[0m\u001B[1;32m      6\u001B[0m \u001B[0mfindspark\u001B[0m\u001B[0;34m.\u001B[0m\u001B[0minit\u001B[0m\u001B[0;34m(\u001B[0m\u001B[0;34m)\u001B[0m\u001B[0;34m\u001B[0m\u001B[0;34m\u001B[0m\u001B[0m\n\u001B[1;32m      7\u001B[0m \u001B[0;32mimport\u001B[0m \u001B[0mpyspark\u001B[0m\u001B[0;34m\u001B[0m\u001B[0;34m\u001B[0m\u001B[0m\n",
      "\u001B[0;31mModuleNotFoundError\u001B[0m: No module named 'findspark'"
     ]
    }
   ]
  },
  {
   "cell_type": "code",
   "metadata": {
    "colab": {
     "base_uri": "https://localhost:8080/"
    },
    "id": "82i2v4pPv87Q",
    "outputId": "a9cbf1d6-c299-4338-a5a0-ab656c02834f"
   },
   "source": [
    "!pip install graphframes\n",
    "from graphframes import *\n"
   ],
   "execution_count": 7,
   "outputs": [
    {
     "name": "stdout",
     "output_type": "stream",
     "text": [
      "Requirement already satisfied: graphframes in ./venv/lib/python3.8/site-packages (0.6)\r\n",
      "Requirement already satisfied: numpy in ./venv/lib/python3.8/site-packages (from graphframes) (1.20.1)\r\n",
      "Requirement already satisfied: nose in ./venv/lib/python3.8/site-packages (from graphframes) (1.3.7)\r\n"
     ]
    },
    {
     "ename": "ModuleNotFoundError",
     "evalue": "No module named 'graphframes'",
     "output_type": "error",
     "traceback": [
      "\u001B[0;31m---------------------------------------------------------------------------\u001B[0m",
      "\u001B[0;31mModuleNotFoundError\u001B[0m                       Traceback (most recent call last)",
      "\u001B[0;32m<ipython-input-7-14b864cc6344>\u001B[0m in \u001B[0;36m<module>\u001B[0;34m\u001B[0m\n\u001B[1;32m      1\u001B[0m \u001B[0mget_ipython\u001B[0m\u001B[0;34m(\u001B[0m\u001B[0;34m)\u001B[0m\u001B[0;34m.\u001B[0m\u001B[0msystem\u001B[0m\u001B[0;34m(\u001B[0m\u001B[0;34m'pip install graphframes'\u001B[0m\u001B[0;34m)\u001B[0m\u001B[0;34m\u001B[0m\u001B[0;34m\u001B[0m\u001B[0m\n\u001B[0;32m----> 2\u001B[0;31m \u001B[0;32mfrom\u001B[0m \u001B[0mgraphframes\u001B[0m \u001B[0;32mimport\u001B[0m \u001B[0;34m*\u001B[0m\u001B[0;34m\u001B[0m\u001B[0;34m\u001B[0m\u001B[0m\n\u001B[0m\u001B[1;32m      3\u001B[0m \u001B[0;34m\u001B[0m\u001B[0m\n\u001B[1;32m      4\u001B[0m \u001B[0;34m\u001B[0m\u001B[0m\n",
      "\u001B[0;31mModuleNotFoundError\u001B[0m: No module named 'graphframes'"
     ]
    }
   ]
  },
  {
   "cell_type": "markdown",
   "metadata": {
    "id": "PdEHgUtC7_Rj"
   },
   "source": [
    "# Classic graph"
   ]
  },
  {
   "cell_type": "code",
   "metadata": {
    "id": "NUE3wEsMwoiI"
   },
   "source": [
    "class Graph:\n",
    "    adjacency_list = {}\n",
    "    def __init__(self, adjacency_list=None):\n",
    "        \"\"\" initializes a graph object \n",
    "            If no dictionary or None is given, \n",
    "            an empty dictionary will be used\n",
    "        \"\"\"\n",
    "        self.adjacency_list = adjacency_list\n",
    "\n",
    "    def nodes(self):\n",
    "        \"\"\" returns the vertices of a graph \"\"\"\n",
    "        return list(self.adjacency_list.keys())\n",
    "\n",
    "    def edges(self):\n",
    "        \"\"\" returns the edges of a graph \"\"\"\n",
    "        return self.generate_edges()\n",
    "\n",
    "    def add_vertex(self, vertex):\n",
    "        \"\"\" If the vertex \"vertex\" is not in \n",
    "            self.__adjacency_list, a key \"vertex\" with an empty\n",
    "            list as a value is added to the dictionary. \n",
    "            Otherwise nothing has to be done. \n",
    "        \"\"\"\n",
    "        if vertex not in self.adjacency_list:\n",
    "            self.adjacency_list[vertex] = []\n",
    "\n",
    "    def add_edge(self, edge):\n",
    "        \"\"\" assumes that edge is of type set, tuple or list; \n",
    "            between two vertices can be multiple edges! \n",
    "        \"\"\"\n",
    "        edge = set(edge)\n",
    "        (vertex1, vertex2) = tuple(edge)\n",
    "        if vertex1 in self.adjacency_list:\n",
    "            self.adjacency_list[vertex1].append(vertex2)\n",
    "        else:\n",
    "            self.adjacency_list[vertex1] = [vertex2]\n",
    "\n",
    "    def generate_edges(self):\n",
    "        \"\"\" A static method generating the edges of the \n",
    "            graph \"graph\". Edges are represented as sets \n",
    "            with one (a loop back to the vertex) or two \n",
    "            vertices \n",
    "        \"\"\"\n",
    "        edges = []\n",
    "        for vertex in self.adjacency_list:\n",
    "            for neighbour in self.adjacency_list[vertex]:\n",
    "                if {neighbour, vertex} not in edges:\n",
    "                    edges.append({vertex, neighbour})\n",
    "        return edges\n",
    "\n",
    "    def bfs(self):\n",
    "      root = list(self.adjacency_list.keys())[0]\n",
    "      visited, queue = set(), collections.deque([root])\n",
    "      visited.add(root)\n",
    "\n",
    "      while queue:\n",
    "\n",
    "          # Dequeue a vertex from queue\n",
    "          vertex = queue.popleft()\n",
    "          print(str(vertex) + \" \", end=\"\")\n",
    "\n",
    "          # If not visited, mark it as visited, and\n",
    "          # enqueue it\n",
    "          for neighbour in self.adjacency_list[vertex]:\n",
    "              if neighbour not in visited:\n",
    "                  visited.add(neighbour)\n",
    "                  queue.append(neighbour)\n",
    "\n",
    "    def dfs(self, node, visited=[]):\n",
    "        if node not in visited:\n",
    "            print (node)\n",
    "            visited.add(node)\n",
    "            for neighbour in self.adjacency_list[node]:\n",
    "                self.dfs(visited, neighbour)"
   ],
   "execution_count": 10,
   "outputs": []
  },
  {
   "cell_type": "code",
   "execution_count": null,
   "outputs": [],
   "source": [
    "g = Graph()"
   ],
   "metadata": {
    "collapsed": false,
    "pycharm": {
     "name": "#%%\n"
    }
   }
  },
  {
   "cell_type": "code",
   "execution_count": null,
   "outputs": [],
   "source": [
    "import csv\n",
    "with open('Dataset/GEMSEC/artist_edges.csv') as csv_file:\n",
    "    csv_reader = csv.reader(csv_file, delimiter=',')\n",
    "    next(csv_reader, None)  # skip the headers\n",
    "    for row in csv_reader:\n",
    "        g.add_edge((row[0], row[1]))\n",
    "\n"
   ],
   "metadata": {
    "collapsed": false,
    "pycharm": {
     "name": "#%%\n",
     "is_executing": true
    }
   }
  }
 ]
}